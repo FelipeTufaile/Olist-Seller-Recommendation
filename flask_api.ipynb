{
 "cells": [
  {
   "cell_type": "markdown",
   "id": "aa5f67f6",
   "metadata": {},
   "source": [
    "#### Installing libraries"
   ]
  },
  {
   "cell_type": "code",
   "execution_count": 3,
   "id": "9b69ca38",
   "metadata": {},
   "outputs": [],
   "source": [
    "# !pip install -U Flask"
   ]
  },
  {
   "cell_type": "markdown",
   "id": "e2abe730",
   "metadata": {},
   "source": [
    "#### Importing Libraries"
   ]
  },
  {
   "cell_type": "code",
   "execution_count": 1,
   "id": "f87808c0",
   "metadata": {},
   "outputs": [],
   "source": [
    "# importing libraries\n",
    "import pandas as pd\n",
    "import numpy as np\n",
    "import requests\n",
    "import flask\n",
    "import sellers"
   ]
  },
  {
   "cell_type": "markdown",
   "id": "3a850c40",
   "metadata": {},
   "source": [
    "#### Input definitions"
   ]
  },
  {
   "cell_type": "code",
   "execution_count": 1,
   "id": "d122437e",
   "metadata": {},
   "outputs": [],
   "source": [
    "## define fixed variables\n",
    "\n",
    "api_key = '<your_api_key>'"
   ]
  },
  {
   "cell_type": "code",
   "execution_count": 12,
   "id": "7afc0a3d",
   "metadata": {},
   "outputs": [],
   "source": [
    "base_api = 'http://20.25.149.148:5000/'\n",
    "\n",
    "geolocation_endpoint = 'geolocation/{cep}/{api_key}'\n",
    "geodistance_endpoint = 'geodistance/{orgn_lat}/{orgn_lng}/{dest_lat}/{dest_lng}/{api_key}'"
   ]
  },
  {
   "cell_type": "code",
   "execution_count": 11,
   "id": "226ddddd",
   "metadata": {},
   "outputs": [
    {
     "data": {
      "text/plain": [
       "{'duration_hours': 1.3675, 'travel_distance_km': 99.166}"
      ]
     },
     "execution_count": 11,
     "metadata": {},
     "output_type": "execute_result"
    }
   ],
   "source": [
    "\n",
    "requests.get(api_url).json()"
   ]
  },
  {
   "cell_type": "markdown",
   "id": "7a175c9d",
   "metadata": {},
   "source": [
    "#### Creating Function: get_geolocation"
   ]
  },
  {
   "cell_type": "code",
   "execution_count": null,
   "id": "7cf27c9e",
   "metadata": {},
   "outputs": [],
   "source": []
  }
 ],
 "metadata": {
  "kernelspec": {
   "display_name": "Python 3.9.12 ('base')",
   "language": "python",
   "name": "python3"
  },
  "language_info": {
   "codemirror_mode": {
    "name": "ipython",
    "version": 3
   },
   "file_extension": ".py",
   "mimetype": "text/x-python",
   "name": "python",
   "nbconvert_exporter": "python",
   "pygments_lexer": "ipython3",
   "version": "3.9.12"
  },
  "vscode": {
   "interpreter": {
    "hash": "fd3a8947c62d370558ed769cf559e4fa5ae3b5a6e2c1981adae94ae7a543138f"
   }
  }
 },
 "nbformat": 4,
 "nbformat_minor": 5
}
